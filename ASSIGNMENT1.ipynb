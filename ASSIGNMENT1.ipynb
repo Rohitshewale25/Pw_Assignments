{
 "cells": [
  {
   "cell_type": "markdown",
   "id": "31d3b0f0-482d-464a-95d4-ab696c07b398",
   "metadata": {},
   "source": [
    "Q1. Create one variable containing following type of data:\n",
    "(i) string\n",
    "(ii) list\n",
    "(iii) float\n",
    "(iv) tuple"
   ]
  },
  {
   "cell_type": "code",
   "execution_count": 4,
   "id": "fab2d00b-8f1f-4894-8e47-0c8b77bc31f0",
   "metadata": {},
   "outputs": [
    {
     "name": "stdout",
     "output_type": "stream",
     "text": [
      "Hello World\n"
     ]
    }
   ],
   "source": [
    "a = \"Hello World\"\n",
    "print(a)"
   ]
  },
  {
   "cell_type": "code",
   "execution_count": 5,
   "id": "4ad886b9-6117-406a-a80c-02863b139ce0",
   "metadata": {},
   "outputs": [
    {
     "data": {
      "text/plain": [
       "str"
      ]
     },
     "execution_count": 5,
     "metadata": {},
     "output_type": "execute_result"
    }
   ],
   "source": [
    "type(a)"
   ]
  },
  {
   "cell_type": "code",
   "execution_count": 25,
   "id": "38416272-6ac5-413d-a188-935924cf95e4",
   "metadata": {},
   "outputs": [
    {
     "name": "stdout",
     "output_type": "stream",
     "text": [
      "[25, 35, 'Rohit', 45.8, (3+4j)]\n"
     ]
    }
   ],
   "source": [
    "l = [25,35,\"Rohit\",45.80,3+4j]\n",
    "print(l)"
   ]
  },
  {
   "cell_type": "code",
   "execution_count": 7,
   "id": "88f07abe-5631-4a07-9485-363aaddecad3",
   "metadata": {},
   "outputs": [
    {
     "data": {
      "text/plain": [
       "list"
      ]
     },
     "execution_count": 7,
     "metadata": {},
     "output_type": "execute_result"
    }
   ],
   "source": [
    "type(l)"
   ]
  },
  {
   "cell_type": "code",
   "execution_count": 8,
   "id": "b3ad2ef3-a845-4df1-acc9-1ce319cc54d8",
   "metadata": {},
   "outputs": [
    {
     "name": "stdout",
     "output_type": "stream",
     "text": [
      "25.5\n"
     ]
    }
   ],
   "source": [
    "b = (25.50)\n",
    "print(b)"
   ]
  },
  {
   "cell_type": "code",
   "execution_count": 9,
   "id": "4491c9df-a480-48cc-8b76-eed8f75adb54",
   "metadata": {},
   "outputs": [
    {
     "data": {
      "text/plain": [
       "float"
      ]
     },
     "execution_count": 9,
     "metadata": {},
     "output_type": "execute_result"
    }
   ],
   "source": [
    "type(b)"
   ]
  },
  {
   "cell_type": "code",
   "execution_count": 22,
   "id": "64bf6b64-bb32-48d5-afde-0fafee084c98",
   "metadata": {},
   "outputs": [
    {
     "name": "stdout",
     "output_type": "stream",
     "text": [
      "(-4, 'Dhoni')\n"
     ]
    }
   ],
   "source": [
    "tup = (-4,\"Dhoni\",)\n",
    "print(tup)\n"
   ]
  },
  {
   "cell_type": "code",
   "execution_count": 23,
   "id": "3a73b8dc-0288-4396-bf51-40b6e9fb9881",
   "metadata": {},
   "outputs": [
    {
     "data": {
      "text/plain": [
       "tuple"
      ]
     },
     "execution_count": 23,
     "metadata": {},
     "output_type": "execute_result"
    }
   ],
   "source": [
    "type(tup)"
   ]
  },
  {
   "cell_type": "markdown",
   "id": "328f2e8f-e020-4f05-8306-4f02cc273a5e",
   "metadata": {},
   "source": [
    "Q2. Given are some following variables containing data:\n",
    "(i) var1 = ‘ ‘\n",
    "(ii) var2 = ‘[ DS , ML , Python]’\n",
    "(iii) var3 = [ ‘DS’ , ’ML’ , ‘Python’ ]\n",
    "(iv) var4 = 1."
   ]
  },
  {
   "cell_type": "code",
   "execution_count": 29,
   "id": "2f93d38e-7bf4-47b7-87b7-3dc8f3f9d101",
   "metadata": {},
   "outputs": [
    {
     "data": {
      "text/plain": [
       "str"
      ]
     },
     "execution_count": 29,
     "metadata": {},
     "output_type": "execute_result"
    }
   ],
   "source": [
    "var1 = \"\" \n",
    "type(var1)"
   ]
  },
  {
   "cell_type": "code",
   "execution_count": 30,
   "id": "a6a91bd4-d5de-4092-adef-3d1142bbe925",
   "metadata": {},
   "outputs": [
    {
     "data": {
      "text/plain": [
       "str"
      ]
     },
     "execution_count": 30,
     "metadata": {},
     "output_type": "execute_result"
    }
   ],
   "source": [
    "var2 =\"[DS,ML,PYTHON]\"\n",
    "type(var2)"
   ]
  },
  {
   "cell_type": "code",
   "execution_count": 33,
   "id": "cb1a3c62-c3fe-4f75-a4c3-7e2bc91a5a78",
   "metadata": {},
   "outputs": [
    {
     "data": {
      "text/plain": [
       "list"
      ]
     },
     "execution_count": 33,
     "metadata": {},
     "output_type": "execute_result"
    }
   ],
   "source": [
    "var3 =[\"DS\",\"ML\",\"PYTHON\"]\n",
    "type(var3)"
   ]
  },
  {
   "cell_type": "code",
   "execution_count": 34,
   "id": "8b6dfaed-b963-4085-b84f-0f48ce94e82f",
   "metadata": {},
   "outputs": [
    {
     "data": {
      "text/plain": [
       "int"
      ]
     },
     "execution_count": 34,
     "metadata": {},
     "output_type": "execute_result"
    }
   ],
   "source": [
    "var4 = 4\n",
    "type(var4)"
   ]
  },
  {
   "cell_type": "markdown",
   "id": "af12ab48-a7af-44c2-9146-f27c03a5b428",
   "metadata": {},
   "source": [
    "Q3. Explain the use of the following operators using an example:\n",
    "(i) /\n",
    "(ii) %\n",
    "(iii) //\n",
    "(iv) **"
   ]
  },
  {
   "cell_type": "code",
   "execution_count": 42,
   "id": "0568414a-0a26-40f7-aa0f-92e1396931e4",
   "metadata": {},
   "outputs": [
    {
     "data": {
      "text/plain": [
       "2.0"
      ]
     },
     "execution_count": 42,
     "metadata": {},
     "output_type": "execute_result"
    }
   ],
   "source": [
    "#  / IS A DIVISION OPERATOR.\n",
    "6/3"
   ]
  },
  {
   "cell_type": "code",
   "execution_count": 47,
   "id": "4cbb98ae-fd25-4c79-86b0-8c02fd8bbe5c",
   "metadata": {},
   "outputs": [
    {
     "data": {
      "text/plain": [
       "1"
      ]
     },
     "execution_count": 47,
     "metadata": {},
     "output_type": "execute_result"
    }
   ],
   "source": [
    "# % IS A MODULUS OPERATOR.\n",
    "5%4"
   ]
  },
  {
   "cell_type": "code",
   "execution_count": 54,
   "id": "237cdf7f-9541-455f-bd6e-3d7f1f3f86ef",
   "metadata": {},
   "outputs": [
    {
     "data": {
      "text/plain": [
       "4"
      ]
     },
     "execution_count": 54,
     "metadata": {},
     "output_type": "execute_result"
    }
   ],
   "source": [
    "# IS A FLOOR DIVISION OPWERATOR \n",
    "25//6"
   ]
  },
  {
   "cell_type": "code",
   "execution_count": 56,
   "id": "650f3013-c4a8-4c6e-a5cc-b0013a76d13e",
   "metadata": {},
   "outputs": [
    {
     "data": {
      "text/plain": [
       "8"
      ]
     },
     "execution_count": 56,
     "metadata": {},
     "output_type": "execute_result"
    }
   ],
   "source": [
    "# ** IS A POWER OPERATOR\n",
    "2**3"
   ]
  },
  {
   "cell_type": "markdown",
   "id": "cace3251-fc74-4f40-b654-15c7dcc68559",
   "metadata": {},
   "source": [
    "Q4. Create a list of length 10 of your choice containing multiple types of data. Using for loop print the\n",
    "element and its data type."
   ]
  },
  {
   "cell_type": "code",
   "execution_count": 64,
   "id": "dfd21160-a381-48e7-a6db-20f679cc8306",
   "metadata": {},
   "outputs": [
    {
     "name": "stdout",
     "output_type": "stream",
     "text": [
      "<class 'int'>\n",
      "<class 'int'>\n",
      "<class 'int'>\n",
      "<class 'bool'>\n",
      "<class 'str'>\n",
      "<class 'complex'>\n",
      "<class 'float'>\n",
      "<class 'str'>\n",
      "<class 'int'>\n",
      "<class 'float'>\n"
     ]
    }
   ],
   "source": [
    "l = [2,3,4,True,\"ROhit\",3+5j,35.50,\"OM SHANTI OM\",55,20.40]\n",
    "for i in l:\n",
    "    print(type(i))"
   ]
  },
  {
   "cell_type": "markdown",
   "id": "034c99ff-4f40-4ffe-956c-f1d9bad31579",
   "metadata": {},
   "source": [
    "Q5. Using a while loop, verify if the number A is purely divisible by number B and if so then how many\n",
    "times it can be divisible."
   ]
  },
  {
   "cell_type": "code",
   "execution_count": 113,
   "id": "123361d9-cd2b-459e-bf48-63191db28a08",
   "metadata": {},
   "outputs": [
    {
     "name": "stdin",
     "output_type": "stream",
     "text": [
      "Enter number A:  45\n",
      "Enter number B:  5\n"
     ]
    },
    {
     "name": "stdout",
     "output_type": "stream",
     "text": [
      "45 is purely divisible by 5 in 1 number of times\n"
     ]
    }
   ],
   "source": [
    "A = int(input(\"Enter number A: \"))\n",
    "temp_A = A\n",
    "\n",
    "B = int(input(\"Enter number B: \"))\n",
    "\n",
    "count= 0\n",
    "while temp_A%B==0:\n",
    "    count+=1\n",
    "    temp_A = temp_A/B\n",
    "    \n",
    "if count > 0:\n",
    "    print(f'{A} is purely divisible by {B} in {count} number of times')\n",
    "else:\n",
    "    print(f'{A} is not divisible by {B}')"
   ]
  },
  {
   "cell_type": "markdown",
   "id": "e90fa475-3fb4-4184-9949-93f522625237",
   "metadata": {},
   "source": [
    "Q6. Create a list containing 25 int type data. Using for loop and if-else condition print if the element is\n",
    "divisible by 3 or not."
   ]
  },
  {
   "cell_type": "code",
   "execution_count": 72,
   "id": "bc6e6dfb-12b1-4aac-b19b-30ded1955cb8",
   "metadata": {},
   "outputs": [
    {
     "name": "stdout",
     "output_type": "stream",
     "text": [
      "3\n",
      "The numbers are not divisible by 3\n",
      "6\n",
      "The numbers are not divisible by 3\n",
      "9\n",
      "The numbers are not divisible by 3\n",
      "13\n",
      "The numbers are divisible by 3\n",
      "15\n",
      "The numbers are not divisible by 3\n",
      "18\n",
      "The numbers are not divisible by 3\n",
      "20\n",
      "The numbers are divisible by 3\n",
      "24\n",
      "The numbers are not divisible by 3\n",
      "30\n",
      "The numbers are not divisible by 3\n",
      "33\n",
      "The numbers are not divisible by 3\n",
      "35\n",
      "The numbers are divisible by 3\n",
      "39\n",
      "The numbers are not divisible by 3\n",
      "42\n",
      "The numbers are not divisible by 3\n",
      "45\n",
      "The numbers are not divisible by 3\n",
      "50\n",
      "The numbers are divisible by 3\n",
      "70\n",
      "The numbers are divisible by 3\n",
      "75\n",
      "The numbers are not divisible by 3\n",
      "78\n",
      "The numbers are not divisible by 3\n",
      "85\n",
      "The numbers are divisible by 3\n",
      "100\n",
      "The numbers are divisible by 3\n"
     ]
    }
   ],
   "source": [
    "l = [3,6,9,13,15,18,20,24,30,33,35,39,42,45,50,70,75,78,85,100]\n",
    "for i in l:\n",
    "    print(i)\n",
    "    if i%3:\n",
    "        print(\"The numbers are divisible by 3\")\n",
    "    else:\n",
    "        print(\"The numbers are not divisible by 3\")"
   ]
  },
  {
   "cell_type": "markdown",
   "id": "91ca16f1-3d0b-485c-ae47-5cf7f510cd77",
   "metadata": {},
   "source": [
    " Q7. What do you understand about mutable and immutable data types? Give examples for both showing\n",
    "this property."
   ]
  },
  {
   "cell_type": "code",
   "execution_count": 95,
   "id": "882191fc-dea5-4ede-be21-b90a98295d4d",
   "metadata": {},
   "outputs": [
    {
     "data": {
      "text/plain": [
       "list"
      ]
     },
     "execution_count": 95,
     "metadata": {},
     "output_type": "execute_result"
    }
   ],
   "source": [
    " # MUTABLE DATA TYPES IS ALLOWED TO REPLACE IN VALUES CONTAINING A LIST FUNCTION.\n",
    " # THEY CAN BE REPLACE BY SOME ANOTHER VALUES ACCORDING TO THEIR INDEXING.\n",
    "l = [ 23,45,\"ROHIT\",45.90,True,3+5j]\n",
    " type(l)"
   ]
  },
  {
   "cell_type": "code",
   "execution_count": 96,
   "id": "ff1f4370-b0e1-4a93-9034-5f6cb6cf6267",
   "metadata": {},
   "outputs": [
    {
     "data": {
      "text/plain": [
       "[23, 45, 'ROHIT', 45.9, True, (3+5j)]"
      ]
     },
     "execution_count": 96,
     "metadata": {},
     "output_type": "execute_result"
    }
   ],
   "source": [
    "l"
   ]
  },
  {
   "cell_type": "code",
   "execution_count": 99,
   "id": "30df4a0d-03c7-4cb8-b1ef-1e712184fdb2",
   "metadata": {},
   "outputs": [
    {
     "data": {
      "text/plain": [
       "[23, '45 is replace by 100', 'ROHIT', 45.9, True, (3+5j)]"
      ]
     },
     "execution_count": 99,
     "metadata": {},
     "output_type": "execute_result"
    }
   ],
   "source": [
    "l[1]=\"45 is replace by 100\"\n",
    "l"
   ]
  },
  {
   "cell_type": "code",
   "execution_count": 103,
   "id": "1bedf91d-349c-494b-87f5-be309cb08a28",
   "metadata": {},
   "outputs": [
    {
     "ename": "TypeError",
     "evalue": "'str' object is not callable",
     "output_type": "error",
     "traceback": [
      "\u001b[0;31m---------------------------------------------------------------------------\u001b[0m",
      "\u001b[0;31mTypeError\u001b[0m                                 Traceback (most recent call last)",
      "Cell \u001b[0;32mIn[103], line 5\u001b[0m\n\u001b[1;32m      1\u001b[0m \u001b[38;5;66;03m# IMMUTABLE DATA TYPES CANNOT BE ALLOWED TO CHANGE THEIR VALUES BY SOME OTHERS VALUES.\u001b[39;00m\n\u001b[1;32m      2\u001b[0m \u001b[38;5;66;03m# BUT IMMUTABLE DATA TYPES CAN BE ONLY APPLIED ON STRINGS.BUT STRINGS CANNOT BE CHANGE IN IMMUTABLE DATA TYPES.\u001b[39;00m\n\u001b[1;32m      3\u001b[0m \u001b[38;5;66;03m# WHEN WE TRY TO REPLACE ITS VALUE THEN IMMEDIATELY SHOWN A ERROR.\u001b[39;00m\n\u001b[1;32m      4\u001b[0m a \u001b[38;5;241m=\u001b[39m \u001b[38;5;124m\"\u001b[39m\u001b[38;5;124mEVERYTHING IS POSSIBLE\u001b[39m\u001b[38;5;124m\"\u001b[39m\n\u001b[0;32m----> 5\u001b[0m \u001b[43ma\u001b[49m\u001b[43m(\u001b[49m\u001b[38;5;241;43m1\u001b[39;49m\u001b[43m)\u001b[49m\u001b[38;5;241m==\u001b[39m\u001b[38;5;241m25\u001b[39m\n",
      "\u001b[0;31mTypeError\u001b[0m: 'str' object is not callable"
     ]
    }
   ],
   "source": [
    "# IMMUTABLE DATA TYPES CANNOT BE ALLOWED TO CHANGE THEIR VALUES BY SOME OTHERS VALUES.\n",
    "# BUT IMMUTABLE DATA TYPES CAN BE ONLY APPLIED ON STRINGS.BUT STRINGS CANNOT BE CHANGE IN IMMUTABLE DATA TYPES.\n",
    "# WHEN WE TRY TO REPLACE ITS VALUE THEN IMMEDIATELY SHOWN A ERROR.\n",
    "a = \"EVERYTHING IS POSSIBLE\"\n",
    "a(1)==25"
   ]
  },
  {
   "cell_type": "code",
   "execution_count": null,
   "id": "bd447550-86bf-4b9e-be30-44bbb034a531",
   "metadata": {},
   "outputs": [],
   "source": []
  }
 ],
 "metadata": {
  "kernelspec": {
   "display_name": "Python 3 (ipykernel)",
   "language": "python",
   "name": "python3"
  },
  "language_info": {
   "codemirror_mode": {
    "name": "ipython",
    "version": 3
   },
   "file_extension": ".py",
   "mimetype": "text/x-python",
   "name": "python",
   "nbconvert_exporter": "python",
   "pygments_lexer": "ipython3",
   "version": "3.10.8"
  }
 },
 "nbformat": 4,
 "nbformat_minor": 5
}
